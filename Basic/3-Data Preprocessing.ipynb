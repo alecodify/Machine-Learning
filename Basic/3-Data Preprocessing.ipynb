{
 "cells": [
  {
   "cell_type": "code",
   "execution_count": 1,
   "id": "de1b8008-a67c-479d-9633-a5efe24bf2f2",
   "metadata": {},
   "outputs": [],
   "source": [
    "# importing libraries\n",
    "import pandas as pd\n",
    "import numpy as np\n",
    "import matplotlib.pyplot as plt"
   ]
  },
  {
   "cell_type": "code",
   "execution_count": 2,
   "id": "480abbf4-c88c-4089-9752-abe11cf645ce",
   "metadata": {},
   "outputs": [
    {
     "data": {
      "text/html": [
       "<div>\n",
       "<style scoped>\n",
       "    .dataframe tbody tr th:only-of-type {\n",
       "        vertical-align: middle;\n",
       "    }\n",
       "\n",
       "    .dataframe tbody tr th {\n",
       "        vertical-align: top;\n",
       "    }\n",
       "\n",
       "    .dataframe thead th {\n",
       "        text-align: right;\n",
       "    }\n",
       "</style>\n",
       "<table border=\"1\" class=\"dataframe\">\n",
       "  <thead>\n",
       "    <tr style=\"text-align: right;\">\n",
       "      <th></th>\n",
       "      <th>Serial</th>\n",
       "      <th>Country</th>\n",
       "      <th>Age</th>\n",
       "      <th>Salary</th>\n",
       "      <th>Purchased</th>\n",
       "    </tr>\n",
       "  </thead>\n",
       "  <tbody>\n",
       "    <tr>\n",
       "      <th>0</th>\n",
       "      <td>1</td>\n",
       "      <td>India</td>\n",
       "      <td>38</td>\n",
       "      <td>68000</td>\n",
       "      <td>No</td>\n",
       "    </tr>\n",
       "    <tr>\n",
       "      <th>1</th>\n",
       "      <td>2</td>\n",
       "      <td>Pakistan</td>\n",
       "      <td>43</td>\n",
       "      <td>54000</td>\n",
       "      <td>Yes</td>\n",
       "    </tr>\n",
       "  </tbody>\n",
       "</table>\n",
       "</div>"
      ],
      "text/plain": [
       "   Serial   Country  Age  Salary Purchased\n",
       "0       1     India   38   68000        No\n",
       "1       2  Pakistan   43   54000       Yes"
      ]
     },
     "execution_count": 2,
     "metadata": {},
     "output_type": "execute_result"
    }
   ],
   "source": [
    "# importing dataset\n",
    "dataset = pd.read_csv(\"3-Data Preprocessing.csv\")\n",
    "dataset.head(2)"
   ]
  },
  {
   "cell_type": "code",
   "execution_count": 3,
   "id": "c163d05a-6745-401c-8caa-ae849e884670",
   "metadata": {},
   "outputs": [
    {
     "data": {
      "text/plain": [
       "(array([[1, 'India', 38, 68000],\n",
       "        [2, 'Pakistan', 43, 54000],\n",
       "        [3, 'France', 30, 47000],\n",
       "        [4, 'Pakistan', 23, 40000],\n",
       "        [5, 'France', 35, 55000],\n",
       "        [6, 'Pakistan', 39, 38000],\n",
       "        [7, 'India', 49, 50000],\n",
       "        [8, 'France', 26, 64000],\n",
       "        [9, 'Pakistan', 38, 39000],\n",
       "        [10, 'India', 34, 40000]], dtype=object),\n",
       " array([68000, 54000, 47000, 40000, 55000, 38000, 50000, 64000, 39000,\n",
       "        40000]))"
      ]
     },
     "execution_count": 3,
     "metadata": {},
     "output_type": "execute_result"
    }
   ],
   "source": [
    "# extracting the dependent and independent variables\n",
    "x = dataset.iloc[:,:-1].values\n",
    "y = dataset.iloc[:,3].values\n",
    "x , y"
   ]
  },
  {
   "cell_type": "code",
   "execution_count": 4,
   "id": "545fad02-d225-496c-9a3e-c1c9cb2ebca6",
   "metadata": {},
   "outputs": [],
   "source": [
    "# handle missing values\n",
    "from sklearn.impute import SimpleImputer\n",
    "imputer = SimpleImputer(missing_values=np.nan, strategy='most_frequent')\n",
    "imputer = imputer.fit(x[:, 1:3])\n",
    "x[:, 1:3] = imputer.transform(x[:, 1:3])"
   ]
  },
  {
   "cell_type": "code",
   "execution_count": 5,
   "id": "208fdac9-e099-4467-ad4e-f9dbf54d8f4d",
   "metadata": {},
   "outputs": [],
   "source": [
    "# encoding the categorical data\n",
    "from sklearn.preprocessing import LabelEncoder  \n",
    "label_encoder_x= LabelEncoder()  \n",
    "x[:, 0]= label_encoder_x.fit_transform(x[:, 0])"
   ]
  },
  {
   "cell_type": "code",
   "execution_count": 6,
   "id": "f9fa62d2-3a8e-4068-8ddb-c560bd92a869",
   "metadata": {},
   "outputs": [
    {
     "data": {
      "text/plain": [
       "(array([[1.0, 0.0, 0.0, 0.0, 0.0, 0.0, 0.0, 0.0, 0.0, 0.0, 'India', 38,\n",
       "         68000],\n",
       "        [0.0, 1.0, 0.0, 0.0, 0.0, 0.0, 0.0, 0.0, 0.0, 0.0, 'Pakistan', 43,\n",
       "         54000],\n",
       "        [0.0, 0.0, 1.0, 0.0, 0.0, 0.0, 0.0, 0.0, 0.0, 0.0, 'France', 30,\n",
       "         47000],\n",
       "        [0.0, 0.0, 0.0, 1.0, 0.0, 0.0, 0.0, 0.0, 0.0, 0.0, 'Pakistan', 23,\n",
       "         40000],\n",
       "        [0.0, 0.0, 0.0, 0.0, 1.0, 0.0, 0.0, 0.0, 0.0, 0.0, 'France', 35,\n",
       "         55000],\n",
       "        [0.0, 0.0, 0.0, 0.0, 0.0, 1.0, 0.0, 0.0, 0.0, 0.0, 'Pakistan', 39,\n",
       "         38000],\n",
       "        [0.0, 0.0, 0.0, 0.0, 0.0, 0.0, 1.0, 0.0, 0.0, 0.0, 'India', 49,\n",
       "         50000],\n",
       "        [0.0, 0.0, 0.0, 0.0, 0.0, 0.0, 0.0, 1.0, 0.0, 0.0, 'France', 26,\n",
       "         64000],\n",
       "        [0.0, 0.0, 0.0, 0.0, 0.0, 0.0, 0.0, 0.0, 1.0, 0.0, 'Pakistan', 38,\n",
       "         39000],\n",
       "        [0.0, 0.0, 0.0, 0.0, 0.0, 0.0, 0.0, 0.0, 0.0, 1.0, 'India', 34,\n",
       "         40000]], dtype=object),\n",
       " array([8, 5, 3, 2, 6, 0, 4, 7, 1, 2]))"
      ]
     },
     "execution_count": 6,
     "metadata": {},
     "output_type": "execute_result"
    }
   ],
   "source": [
    "from sklearn.preprocessing import LabelEncoder, OneHotEncoder  \n",
    "label_encoder_x= LabelEncoder()  \n",
    "x[:, 0]= label_encoder_x.fit_transform(x[:, 0]) \n",
    "\n",
    "from sklearn.compose import ColumnTransformer\n",
    "column_transformer = ColumnTransformer(\n",
    "    transformers=[\n",
    "        ('encoder', OneHotEncoder(), [0])\n",
    "    ],\n",
    "    remainder='passthrough'\n",
    ")\n",
    "x = np.array(column_transformer.fit_transform(x))\n",
    "\n",
    "labelencoder_y= LabelEncoder()  \n",
    "y= labelencoder_y.fit_transform(y)\n",
    "\n",
    "x, y"
   ]
  },
  {
   "cell_type": "code",
   "execution_count": 7,
   "id": "33f6e642-b0c6-4142-9fe7-170428206752",
   "metadata": {},
   "outputs": [],
   "source": [
    "# spliting the training and testing data\n",
    "from sklearn.model_selection import train_test_split  \n",
    "x_train, x_test, y_train, y_test= train_test_split(x, y, test_size= 0.2, random_state=0)  "
   ]
  },
  {
   "cell_type": "code",
   "execution_count": null,
   "id": "7584878c-dbfc-4367-9ef3-b371478997d1",
   "metadata": {},
   "outputs": [],
   "source": []
  }
 ],
 "metadata": {
  "kernelspec": {
   "display_name": "Python 3 (ipykernel)",
   "language": "python",
   "name": "python3"
  },
  "language_info": {
   "codemirror_mode": {
    "name": "ipython",
    "version": 3
   },
   "file_extension": ".py",
   "mimetype": "text/x-python",
   "name": "python",
   "nbconvert_exporter": "python",
   "pygments_lexer": "ipython3",
   "version": "3.12.2"
  }
 },
 "nbformat": 4,
 "nbformat_minor": 5
}
